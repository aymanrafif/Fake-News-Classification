{
 "cells": [
  {
   "cell_type": "code",
   "execution_count": 1,
   "metadata": {},
   "outputs": [
    {
     "name": "stderr",
     "output_type": "stream",
     "text": [
      "C:\\Users\\MSI GL65\\AppData\\Local\\Temp\\ipykernel_4052\\2367652982.py:1: DeprecationWarning: \n",
      "Pyarrow will become a required dependency of pandas in the next major release of pandas (pandas 3.0),\n",
      "(to allow more performant data types, such as the Arrow string type, and better interoperability with other libraries)\n",
      "but was not found to be installed on your system.\n",
      "If this would cause problems for you,\n",
      "please provide us feedback at https://github.com/pandas-dev/pandas/issues/54466\n",
      "        \n",
      "  import pandas as pd\n"
     ]
    }
   ],
   "source": [
    "import pandas as pd\n",
    "import numpy as np\n",
    "import chardet\n",
    "\n",
    "import re\n",
    "import matplotlib.pyplot as plt\n",
    "import seaborn as sns\n",
    "\n",
    "from sklearn.model_selection import train_test_split\n",
    "from sklearn.metrics import classification_report\n",
    "\n",
    "from wordcloud import WordCloud\n",
    "\n",
    "from nltk.tokenize import word_tokenize\n",
    "from keras import backend as K\n",
    "\n",
    "import warnings\n",
    "warnings.filterwarnings('ignore')"
   ]
  },
  {
   "cell_type": "code",
   "execution_count": 2,
   "metadata": {},
   "outputs": [],
   "source": [
    "def detect_file_encoding(file_path):\n",
    "    \"\"\"\n",
    "    Detects the encoding of a file.\n",
    "\n",
    "    Parameters:\n",
    "    - file_path: str, the path to the file whose encoding needs to be detected.\n",
    "\n",
    "    Returns:\n",
    "    - str, the detected encoding of the file.\n",
    "    \"\"\"\n",
    "    with open(file_path, 'rb') as file:\n",
    "        result = chardet.detect(file.read())\n",
    "    detected_encoding = result['encoding']\n",
    "    return detected_encoding"
   ]
  },
  {
   "cell_type": "code",
   "execution_count": 3,
   "metadata": {},
   "outputs": [],
   "source": [
    "file_path = 'data/data_mendeley/600 news with valid hoax label.csv'\n",
    "\n",
    "detected_encoding = detect_file_encoding(file_path)"
   ]
  },
  {
   "cell_type": "code",
   "execution_count": 4,
   "metadata": {},
   "outputs": [],
   "source": [
    "df = pd.read_csv(file_path, encoding=detected_encoding, sep=';', on_bad_lines='skip')"
   ]
  },
  {
   "cell_type": "code",
   "execution_count": 5,
   "metadata": {},
   "outputs": [
    {
     "name": "stdout",
     "output_type": "stream",
     "text": [
      "<class 'pandas.core.frame.DataFrame'>\n",
      "RangeIndex: 600 entries, 0 to 599\n",
      "Data columns (total 2 columns):\n",
      " #   Column   Non-Null Count  Dtype \n",
      "---  ------   --------------  ----- \n",
      " 0   berita   600 non-null    object\n",
      " 1   tagging  600 non-null    object\n",
      "dtypes: object(2)\n",
      "memory usage: 9.5+ KB\n"
     ]
    }
   ],
   "source": [
    "df.info()"
   ]
  },
  {
   "cell_type": "code",
   "execution_count": 6,
   "metadata": {},
   "outputs": [
    {
     "data": {
      "text/html": [
       "<div>\n",
       "<style scoped>\n",
       "    .dataframe tbody tr th:only-of-type {\n",
       "        vertical-align: middle;\n",
       "    }\n",
       "\n",
       "    .dataframe tbody tr th {\n",
       "        vertical-align: top;\n",
       "    }\n",
       "\n",
       "    .dataframe thead th {\n",
       "        text-align: right;\n",
       "    }\n",
       "</style>\n",
       "<table border=\"1\" class=\"dataframe\">\n",
       "  <thead>\n",
       "    <tr style=\"text-align: right;\">\n",
       "      <th></th>\n",
       "      <th>berita</th>\n",
       "      <th>tagging</th>\n",
       "    </tr>\n",
       "  </thead>\n",
       "  <tbody>\n",
       "    <tr>\n",
       "      <th>0</th>\n",
       "      <td>Jakarta, Di jejaring sosial, banyak beredar in...</td>\n",
       "      <td>Valid</td>\n",
       "    </tr>\n",
       "    <tr>\n",
       "      <th>1</th>\n",
       "      <td>Isu bahwa ikan lele mengandung sel kanker di j...</td>\n",
       "      <td>Valid</td>\n",
       "    </tr>\n",
       "    <tr>\n",
       "      <th>2</th>\n",
       "      <td>Bagi penikmat kuliner dengan bahan dasar ikan ...</td>\n",
       "      <td>Valid</td>\n",
       "    </tr>\n",
       "    <tr>\n",
       "      <th>3</th>\n",
       "      <td>Ikan lele merupakan salah satu makanan favorit...</td>\n",
       "      <td>Valid</td>\n",
       "    </tr>\n",
       "    <tr>\n",
       "      <th>4</th>\n",
       "      <td>Ikan lele merupakan bahan makanan yang cukup p...</td>\n",
       "      <td>Valid</td>\n",
       "    </tr>\n",
       "  </tbody>\n",
       "</table>\n",
       "</div>"
      ],
      "text/plain": [
       "                                              berita tagging\n",
       "0  Jakarta, Di jejaring sosial, banyak beredar in...   Valid\n",
       "1  Isu bahwa ikan lele mengandung sel kanker di j...   Valid\n",
       "2  Bagi penikmat kuliner dengan bahan dasar ikan ...   Valid\n",
       "3  Ikan lele merupakan salah satu makanan favorit...   Valid\n",
       "4  Ikan lele merupakan bahan makanan yang cukup p...   Valid"
      ]
     },
     "execution_count": 6,
     "metadata": {},
     "output_type": "execute_result"
    }
   ],
   "source": [
    "df.head()"
   ]
  },
  {
   "cell_type": "code",
   "execution_count": 7,
   "metadata": {},
   "outputs": [
    {
     "data": {
      "text/plain": [
       "tagging\n",
       "Valid    372\n",
       "Hoax     228\n",
       "Name: count, dtype: int64"
      ]
     },
     "execution_count": 7,
     "metadata": {},
     "output_type": "execute_result"
    }
   ],
   "source": [
    "df['tagging'].value_counts()"
   ]
  },
  {
   "cell_type": "code",
   "execution_count": 8,
   "metadata": {},
   "outputs": [],
   "source": [
    "def text_cleansing(df):\n",
    "    df_clean = [text.replace('\\n', '') for text in df]\n",
    "    df_clean = [text.lower() for text in df_clean]\n",
    "    df_clean = [re.sub(r\"\\d+\", \"\", text) for text in df_clean]\n",
    "    df_clean = [re.sub(r'[^\\w]', ' ', text) for text in df_clean]\n",
    "    df_clean = [re.sub(r'\\s+', ' ', text) for text in df_clean]\n",
    "    return df_clean"
   ]
  },
  {
   "cell_type": "code",
   "execution_count": 9,
   "metadata": {},
   "outputs": [
    {
     "data": {
      "text/html": [
       "<div>\n",
       "<style scoped>\n",
       "    .dataframe tbody tr th:only-of-type {\n",
       "        vertical-align: middle;\n",
       "    }\n",
       "\n",
       "    .dataframe tbody tr th {\n",
       "        vertical-align: top;\n",
       "    }\n",
       "\n",
       "    .dataframe thead th {\n",
       "        text-align: right;\n",
       "    }\n",
       "</style>\n",
       "<table border=\"1\" class=\"dataframe\">\n",
       "  <thead>\n",
       "    <tr style=\"text-align: right;\">\n",
       "      <th></th>\n",
       "      <th>berita</th>\n",
       "      <th>tagging</th>\n",
       "      <th>clean text</th>\n",
       "    </tr>\n",
       "  </thead>\n",
       "  <tbody>\n",
       "    <tr>\n",
       "      <th>0</th>\n",
       "      <td>Jakarta, Di jejaring sosial, banyak beredar in...</td>\n",
       "      <td>Valid</td>\n",
       "      <td>jakarta di jejaring sosial banyak beredar info...</td>\n",
       "    </tr>\n",
       "    <tr>\n",
       "      <th>1</th>\n",
       "      <td>Isu bahwa ikan lele mengandung sel kanker di j...</td>\n",
       "      <td>Valid</td>\n",
       "      <td>isu bahwa ikan lele mengandung sel kanker di j...</td>\n",
       "    </tr>\n",
       "    <tr>\n",
       "      <th>2</th>\n",
       "      <td>Bagi penikmat kuliner dengan bahan dasar ikan ...</td>\n",
       "      <td>Valid</td>\n",
       "      <td>bagi penikmat kuliner dengan bahan dasar ikan ...</td>\n",
       "    </tr>\n",
       "    <tr>\n",
       "      <th>3</th>\n",
       "      <td>Ikan lele merupakan salah satu makanan favorit...</td>\n",
       "      <td>Valid</td>\n",
       "      <td>ikan lele merupakan salah satu makanan favorit...</td>\n",
       "    </tr>\n",
       "    <tr>\n",
       "      <th>4</th>\n",
       "      <td>Ikan lele merupakan bahan makanan yang cukup p...</td>\n",
       "      <td>Valid</td>\n",
       "      <td>ikan lele merupakan bahan makanan yang cukup p...</td>\n",
       "    </tr>\n",
       "  </tbody>\n",
       "</table>\n",
       "</div>"
      ],
      "text/plain": [
       "                                              berita tagging  \\\n",
       "0  Jakarta, Di jejaring sosial, banyak beredar in...   Valid   \n",
       "1  Isu bahwa ikan lele mengandung sel kanker di j...   Valid   \n",
       "2  Bagi penikmat kuliner dengan bahan dasar ikan ...   Valid   \n",
       "3  Ikan lele merupakan salah satu makanan favorit...   Valid   \n",
       "4  Ikan lele merupakan bahan makanan yang cukup p...   Valid   \n",
       "\n",
       "                                          clean text  \n",
       "0  jakarta di jejaring sosial banyak beredar info...  \n",
       "1  isu bahwa ikan lele mengandung sel kanker di j...  \n",
       "2  bagi penikmat kuliner dengan bahan dasar ikan ...  \n",
       "3  ikan lele merupakan salah satu makanan favorit...  \n",
       "4  ikan lele merupakan bahan makanan yang cukup p...  "
      ]
     },
     "execution_count": 9,
     "metadata": {},
     "output_type": "execute_result"
    }
   ],
   "source": [
    "df['clean text'] = text_cleansing(df['berita'])\n",
    "df.head()"
   ]
  },
  {
   "cell_type": "code",
   "execution_count": null,
   "metadata": {},
   "outputs": [],
   "source": []
  },
  {
   "cell_type": "code",
   "execution_count": 10,
   "metadata": {},
   "outputs": [],
   "source": [
    "# def word_tokenize_wrapper(text):\n",
    "#  return word_tokenize(text)\n",
    "# df['clean text'] = df['clean text'].apply(word_tokenize_wrapper)\n",
    "# df.head()"
   ]
  }
 ],
 "metadata": {
  "kernelspec": {
   "display_name": "tf_gpu",
   "language": "python",
   "name": "python3"
  },
  "language_info": {
   "codemirror_mode": {
    "name": "ipython",
    "version": 3
   },
   "file_extension": ".py",
   "mimetype": "text/x-python",
   "name": "python",
   "nbconvert_exporter": "python",
   "pygments_lexer": "ipython3",
   "version": "3.9.18"
  }
 },
 "nbformat": 4,
 "nbformat_minor": 2
}
